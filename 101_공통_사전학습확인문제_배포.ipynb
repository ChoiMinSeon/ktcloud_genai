{
  "nbformat": 4,
  "nbformat_minor": 0,
  "metadata": {
    "colab": {
      "provenance": [],
      "gpuType": "T4",
      "include_colab_link": true
    },
    "kernelspec": {
      "name": "python3",
      "display_name": "Python 3"
    },
    "language_info": {
      "name": "python"
    }
  },
  "cells": [
    {
      "cell_type": "markdown",
      "metadata": {
        "id": "view-in-github",
        "colab_type": "text"
      },
      "source": [
        "<a href=\"https://colab.research.google.com/github/ChoiMinSeon/ktcloud_genai/blob/main/101_%EA%B3%B5%ED%86%B5_%EC%82%AC%EC%A0%84%ED%95%99%EC%8A%B5%ED%99%95%EC%9D%B8%EB%AC%B8%EC%A0%9C_%EB%B0%B0%ED%8F%AC.ipynb\" target=\"_parent\"><img src=\"https://colab.research.google.com/assets/colab-badge.svg\" alt=\"Open In Colab\"/></a>"
      ]
    },
    {
      "cell_type": "markdown",
      "source": [
        "# 파이썬 사전 학습 문제"
      ],
      "metadata": {
        "id": "xAPO58qbDYi8"
      }
    },
    {
      "cell_type": "markdown",
      "source": [
        "\n",
        "\n",
        "---\n",
        "\n"
      ],
      "metadata": {
        "id": "NAmo5uhXQ46c"
      }
    },
    {
      "cell_type": "markdown",
      "source": [
        "- 💡 **NOTE**\n",
        "    - 본 문제는 생성형AI 과정의 원활한 프로그래밍 활동을 위해 수강생들의 파이썬 사전학습 정도를 확인하기 위한 문제로 구성되었습니다.\n",
        "    - 사전 참고용으로만 사용될 예정입니다."
      ],
      "metadata": {
        "id": "KHIcfXn8RArA"
      }
    },
    {
      "cell_type": "markdown",
      "source": [
        "---"
      ],
      "metadata": {
        "id": "K-OX9xcYMp_f"
      }
    },
    {
      "cell_type": "markdown",
      "source": [
        "## **문제1 : 스마트 필터링 시스템**\n",
        "**문제** : 학생들의 성적 데이터에서 조건에 맞는 학생들을 필터링하는 함수를 작성하세요.\n",
        "\n",
        "- 80점 이상이면서 이름이 3글자 이상인 학생들의 이름을 리스트로 반환\n",
        "- 리스트 컴프리헨션 사용 필수"
      ],
      "metadata": {
        "id": "vjJh4IMODeSo"
      }
    },
    {
      "cell_type": "code",
      "execution_count": 21,
      "metadata": {
        "id": "w1ERcAduBZ1q"
      },
      "outputs": [],
      "source": [
        "students = [\n",
        "    {\"name\": \"김철수\", \"score\": 85},\n",
        "    {\"name\": \"김이영희\", \"score\": 92},\n",
        "    {\"name\": \"박민수\", \"score\": 78},\n",
        "    {\"name\": \"최지현\", \"score\": 88},\n",
        "    {\"name\": \"한소영\", \"score\": 95}\n",
        "]"
      ]
    },
    {
      "cell_type": "markdown",
      "source": [
        "- **해답 코드**"
      ],
      "metadata": {
        "id": "QY5G4ozHDlhO"
      }
    },
    {
      "cell_type": "code",
      "source": [
        "def filter_students(students):\n",
        "    # --- 코드 작성 ---\n",
        "\n",
        "    return [students['name'] for students in students if students['score'] >= 80 and len(students['name']) >= 3]\n",
        "\n",
        "\n",
        "# 테스트\n",
        "result = filter_students(students)\n",
        "print(result)"
      ],
      "metadata": {
        "id": "xeqrnL4Zb8Zc",
        "outputId": "f8f14854-d078-444f-c309-c1fd3fc68a43",
        "colab": {
          "base_uri": "https://localhost:8080/"
        }
      },
      "execution_count": 22,
      "outputs": [
        {
          "output_type": "stream",
          "name": "stdout",
          "text": [
            "['김철수', '김이영희', '최지현', '한소영']\n"
          ]
        }
      ]
    },
    {
      "cell_type": "code",
      "source": [
        "\n",
        "def filter_students(students):\n",
        "    # --- 코드 작성 ---\n",
        "    filtered_students=[]\n",
        "    for student in students:\n",
        "      if student['score'] >= 80 and len(student['name']) >= 3:\n",
        "        filtered_students.append(student['name'])\n",
        "\n",
        "    return filtered_students\n",
        "\n",
        "# 테스트\n",
        "result = filter_students(students)\n",
        "print(result)"
      ],
      "metadata": {
        "id": "EQydgo7UBgT6",
        "colab": {
          "base_uri": "https://localhost:8080/"
        },
        "outputId": "dc305109-0a2a-448d-e34c-7620a0040e88"
      },
      "execution_count": 7,
      "outputs": [
        {
          "output_type": "stream",
          "name": "stdout",
          "text": [
            "['김철수', '김이영희', '최지현', '한소영']\n"
          ]
        }
      ]
    },
    {
      "cell_type": "markdown",
      "source": [
        "## **문제2 : 단어 빈도수 분석기**\n",
        "**문제** : 텍스트에서 단어별 출현 빈도를 계산하고, 가장 많이 나온 단어 3개를 반환하는 함수를 작성하세요."
      ],
      "metadata": {
        "id": "jOzKzZNW9PGe"
      }
    },
    {
      "cell_type": "code",
      "source": [
        "text = \"AI는 미래다 AI 기술은 발전한다 미래는 AI가 이끈다 기술 발전은 계속된다\""
      ],
      "metadata": {
        "id": "SFT0IbQzD8HS"
      },
      "execution_count": 9,
      "outputs": []
    },
    {
      "cell_type": "markdown",
      "source": [
        "- **해답 코드**"
      ],
      "metadata": {
        "id": "TS6j0c3j9Z_Y"
      }
    },
    {
      "cell_type": "code",
      "source": [
        "!pip install konlpy"
      ],
      "metadata": {
        "id": "w1rzYbSIYihc",
        "outputId": "45f24fe9-42f8-49f9-c5dc-605ced5aa40a",
        "colab": {
          "base_uri": "https://localhost:8080/"
        }
      },
      "execution_count": 3,
      "outputs": [
        {
          "output_type": "stream",
          "name": "stdout",
          "text": [
            "Collecting konlpy\n",
            "  Downloading konlpy-0.6.0-py2.py3-none-any.whl.metadata (1.9 kB)\n",
            "Collecting JPype1>=0.7.0 (from konlpy)\n",
            "  Downloading jpype1-1.6.0-cp312-cp312-manylinux2014_x86_64.manylinux_2_17_x86_64.whl.metadata (5.0 kB)\n",
            "Requirement already satisfied: lxml>=4.1.0 in /usr/local/lib/python3.12/dist-packages (from konlpy) (5.4.0)\n",
            "Requirement already satisfied: numpy>=1.6 in /usr/local/lib/python3.12/dist-packages (from konlpy) (2.0.2)\n",
            "Requirement already satisfied: packaging in /usr/local/lib/python3.12/dist-packages (from JPype1>=0.7.0->konlpy) (25.0)\n",
            "Downloading konlpy-0.6.0-py2.py3-none-any.whl (19.4 MB)\n",
            "\u001b[2K   \u001b[90m━━━━━━━━━━━━━━━━━━━━━━━━━━━━━━━━━━━━━━━━\u001b[0m \u001b[32m19.4/19.4 MB\u001b[0m \u001b[31m76.0 MB/s\u001b[0m eta \u001b[36m0:00:00\u001b[0m\n",
            "\u001b[?25hDownloading jpype1-1.6.0-cp312-cp312-manylinux2014_x86_64.manylinux_2_17_x86_64.whl (495 kB)\n",
            "\u001b[2K   \u001b[90m━━━━━━━━━━━━━━━━━━━━━━━━━━━━━━━━━━━━━━━━\u001b[0m \u001b[32m495.9/495.9 kB\u001b[0m \u001b[31m35.3 MB/s\u001b[0m eta \u001b[36m0:00:00\u001b[0m\n",
            "\u001b[?25hInstalling collected packages: JPype1, konlpy\n",
            "Successfully installed JPype1-1.6.0 konlpy-0.6.0\n"
          ]
        }
      ]
    },
    {
      "cell_type": "code",
      "source": [
        "from konlpy.tag import Okt\n",
        "from collections import Counter\n",
        "\n",
        "def word_frequency_analyzer(text):\n",
        "  okt = Okt()\n",
        "  nouns = okt.nouns(text)\n",
        "  counter=Counter(nouns)\n",
        "  return counter.most_common(3)\n",
        "\n",
        "# 테스트\n",
        "result = word_frequency_analyzer(text)\n",
        "print(result)"
      ],
      "metadata": {
        "id": "sT7pbhyvEERL",
        "colab": {
          "base_uri": "https://localhost:8080/"
        },
        "outputId": "007115a5-62f6-4365-92da-828e046b5ac6"
      },
      "execution_count": 10,
      "outputs": [
        {
          "output_type": "stream",
          "name": "stdout",
          "text": [
            "[('미래', 2), ('기술', 2), ('발전', 2)]\n"
          ]
        }
      ]
    },
    {
      "cell_type": "markdown",
      "source": [
        "\n",
        "\n",
        "---\n",
        "\n"
      ],
      "metadata": {
        "id": "8h129nZci8Fo"
      }
    },
    {
      "cell_type": "markdown",
      "source": [
        "## **문제3 : 피보나치 수열 생성기**\n",
        "**문제** : 재귀함수와 메모이제이션을 활용하여 효율적인 피보나치 수열 생성 함수를 작성하세요. (단, 재귀와 메모이제이션이 아닌 방법으로도 작성 가능함)\n",
        "- 💡 **메모이제이션**: 동일 입력의 함수 결과를 캐시에 저장해 중복 계산을 피하고 실행 시간을 줄이는, Top-down 동적 계획법의 핵심 기법"
      ],
      "metadata": {
        "id": "_mGr3jh69pkO"
      }
    },
    {
      "cell_type": "markdown",
      "source": [
        "- **해답 코드**"
      ],
      "metadata": {
        "id": "4RvG37dr9pkP"
      }
    },
    {
      "cell_type": "code",
      "source": [
        "def fibonacci_iterative(count):\n",
        "    if count <= 0:\n",
        "        return []\n",
        "    elif count == 1:\n",
        "        return [0]\n",
        "\n",
        "    seq = [0, 1]\n",
        "    for i in range(2, count):\n",
        "        seq.append(seq[i-1] + seq[i-2])\n",
        "    return seq\n",
        "\n",
        "# 테스트\n",
        "print(fibonacci_iterative(10))  # [0, 1, 1, 2, 3, 5, 8, 13, 21, 34]\n"
      ],
      "metadata": {
        "colab": {
          "base_uri": "https://localhost:8080/"
        },
        "id": "Ehl-T97W9pkQ",
        "outputId": "a5833117-b5cc-4bb8-e3fa-734bee46d3c2"
      },
      "execution_count": 11,
      "outputs": [
        {
          "output_type": "stream",
          "name": "stdout",
          "text": [
            "[0, 1, 1, 2, 3, 5, 8, 13, 21, 34]\n"
          ]
        }
      ]
    },
    {
      "cell_type": "markdown",
      "source": [
        "## **문제4 : 학생 관리 시스템 클래스**\n",
        "**문제** : 학생 정보를 관리하는 클래스를 작성하세요.\n",
        "- 필수 포함 기능\n",
        "    - 성적 추가 : add_score\n",
        "    - 평균 계산 : get_average\n",
        "    - 등급 판정 : get_grade"
      ],
      "metadata": {
        "id": "vCpRDtGG9tss"
      }
    },
    {
      "cell_type": "code",
      "source": [
        "class Student:\n",
        "    def __init__(self, name, student_id):\n",
        "        self.name = name\n",
        "        self.student_id = student_id\n",
        "        self.scores = []\n"
      ],
      "metadata": {
        "id": "sjzoTKUG9tst"
      },
      "execution_count": 13,
      "outputs": []
    },
    {
      "cell_type": "markdown",
      "source": [
        "- **해답 코드**"
      ],
      "metadata": {
        "id": "ZV3Rj-b49tst"
      }
    },
    {
      "cell_type": "code",
      "source": [
        "class Student:\n",
        "    def __init__(self, name, student_id):\n",
        "        self.name = name\n",
        "        self.student_id = student_id\n",
        "        self.scores = []  # (과목, 점수) 튜플 리스트\n",
        "\n",
        "    # 점수 추가\n",
        "    def add_score(self, subject, score):\n",
        "        self.scores.append((subject, score))\n",
        "\n",
        "    # 평균 계산\n",
        "    def get_average(self):\n",
        "        if not self.scores:\n",
        "            return 0\n",
        "        total = sum(score for _, score in self.scores)\n",
        "        return round(total / len(self.scores), 1)\n",
        "\n",
        "    # 등급 계산\n",
        "    def get_grade(self):\n",
        "        avg = self.get_average()\n",
        "        if avg >= 90:\n",
        "            return 'A'\n",
        "        elif avg >= 80:\n",
        "            return 'B'\n",
        "        elif avg >= 70:\n",
        "            return 'C'\n",
        "        elif avg >= 60:\n",
        "            return 'D'\n",
        "        else:\n",
        "            return 'F'\n",
        "\n",
        "    def __str__(self):\n",
        "        return f\"학생: {self.name} (ID: {self.student_id}), 평균: {self.get_average()}, 등급: {self.get_grade()}\"\n",
        "\n",
        "\n",
        "# 테스트\n",
        "student = Student(\"김영수\", \"2021001\")\n",
        "student.add_score(\"수학\", 85)\n",
        "student.add_score(\"영어\", 92)\n",
        "student.add_score(\"과학\", 78)\n",
        "print(student)  # 학생: 김영수 (ID: 2021001), 평균: 85.0, 등급: B\n"
      ],
      "metadata": {
        "colab": {
          "base_uri": "https://localhost:8080/"
        },
        "id": "ierWuYYW9tst",
        "outputId": "2855f859-41a8-4d2b-ebe4-7530c630d62d"
      },
      "execution_count": 15,
      "outputs": [
        {
          "output_type": "stream",
          "name": "stdout",
          "text": [
            "학생: 김영수 (ID: 2021001), 평균: 85.0, 등급: B\n"
          ]
        }
      ]
    },
    {
      "cell_type": "markdown",
      "source": [
        "\n",
        "\n",
        "---\n",
        "\n"
      ],
      "metadata": {
        "id": "GEJ2wAGf9tst"
      }
    },
    {
      "cell_type": "markdown",
      "source": [
        "## **문제5 : 로그 파일 분석기**\n",
        "**문제** : 로그 파일을 읽어서 ERROR 레벨의 로그만 추출하고 분석하는 함수를 작성하세요.(단, 필요하면 함수 추가 가능합니다.)"
      ],
      "metadata": {
        "id": "1RZtSyrW9vAD"
      }
    },
    {
      "cell_type": "markdown",
      "source": [
        "- **해답 코드**"
      ],
      "metadata": {
        "id": "iIRDc6Jd9vAD"
      }
    },
    {
      "cell_type": "code",
      "source": [
        "import re\n",
        "from datetime import datetime\n",
        "\n",
        "def analyze_error_logs(filename):\n",
        "    error_logs = []\n",
        "\n",
        "    with open(filename, 'r', encoding='utf-8') as f:\n",
        "        for i, line in enumerate(f, start=1):\n",
        "            # ERROR 라인이면 처리\n",
        "            if 'ERROR' in line:\n",
        "                # 정규식으로 시간과 메시지 추출\n",
        "                match = re.match(r'(\\d{4}-\\d{2}-\\d{2} \\d{2}:\\d{2}:\\d{2}) ERROR (.+)', line)\n",
        "                if match:\n",
        "                    timestamp_str, message = match.groups()\n",
        "                    timestamp = datetime.strptime(timestamp_str, '%Y-%m-%d %H:%M:%S')\n",
        "                    error_logs.append({\n",
        "                        'line_number': i,\n",
        "                        'timestamp': timestamp,\n",
        "                        'message': message.strip()\n",
        "                    })\n",
        "\n",
        "    return error_logs\n",
        "\n",
        "# 샘플 로그 파일 생성\n",
        "sample_log = \"\"\"2024-01-15 10:30:15 INFO 시스템 시작\n",
        "2024-01-15 10:31:20 ERROR 데이터베이스 연결 실패\n",
        "2024-01-15 10:32:45 INFO 사용자 로그인\n",
        "2024-01-15 10:33:12 ERROR 메모리 부족\"\"\"\n",
        "\n",
        "with open('sample.log', 'w', encoding='utf-8') as f:\n",
        "    f.write(sample_log)\n",
        "\n",
        "# 함수 실행\n",
        "errors = analyze_error_logs('sample.log')\n",
        "for error in errors:\n",
        "    print(f\"Line {error['line_number']}: {error['timestamp']} - {error['message']}\")\n"
      ],
      "metadata": {
        "colab": {
          "base_uri": "https://localhost:8080/"
        },
        "id": "rXltmVlp9vAD",
        "outputId": "a088872c-cbbe-4e91-97d5-d401adc83c42"
      },
      "execution_count": 23,
      "outputs": [
        {
          "output_type": "stream",
          "name": "stdout",
          "text": [
            "Line 2: 2024-01-15 10:31:20 - 데이터베이스 연결 실패\n",
            "Line 4: 2024-01-15 10:33:12 - 메모리 부족\n"
          ]
        }
      ]
    },
    {
      "cell_type": "markdown",
      "source": [
        "\n",
        "\n",
        "---\n",
        "\n"
      ],
      "metadata": {
        "id": "DCl3RLCw9vAD"
      }
    },
    {
      "cell_type": "markdown",
      "source": [
        "## **문제6 : 함수형 프로그래밍 데이터 처리**\n",
        "**문제** : 람다함수와 map, filter를 활용하여 사용자 데이터를 처리하는 함수를 작성하세요.(단, 필요하면 함수 추가 가능합니다.)\n",
        "\n",
        "- 처리 기능\n",
        "    - IT 부서 직원만 필터링\n",
        "    - 연봉 10% 인상 적용\n",
        "    - 이름과 인상된 연봉만 추출"
      ],
      "metadata": {
        "id": "u_RyWAH89vTC"
      }
    },
    {
      "cell_type": "markdown",
      "source": [
        "- **해답 코드**"
      ],
      "metadata": {
        "id": "xyZExpPC9vTC"
      }
    },
    {
      "cell_type": "code",
      "source": [
        "users = [\n",
        "    {\"name\": \"Alice\", \"age\": 25, \"salary\": 50000, \"department\": \"IT\"},\n",
        "    {\"name\": \"Bob\", \"age\": 30, \"salary\": 60000, \"department\": \"Marketing\"},\n",
        "    {\"name\": \"Charlie\", \"age\": 35, \"salary\": 70000, \"department\": \"IT\"},\n",
        "    {\"name\": \"Diana\", \"age\": 28, \"salary\": 55000, \"department\": \"HR\"}\n",
        "]\n",
        "\n",
        "def process_user_data(users):\n",
        "    # IT 부서 직원만 필터링\n",
        "    it_staff = list(filter(lambda x: x['department'] == 'IT', users))\n",
        "\n",
        "    # 연봉 10% 인상 적용\n",
        "    # 이름과 인상된 연봉만 추출\n",
        "    result = list(map(lambda x: {\"name\": x['name'], \"salary\": round(x['salary']*1.1, 2)}, it_staff))\n",
        "\n",
        "    return result\n",
        "\n",
        "# 테스트\n",
        "result = process_user_data(users)\n",
        "print(result)\n",
        "result"
      ],
      "metadata": {
        "colab": {
          "base_uri": "https://localhost:8080/"
        },
        "id": "Fju6Ellg9vTC",
        "outputId": "ae1f1360-5ff8-45e6-9b1a-b8da64d25e9b"
      },
      "execution_count": 26,
      "outputs": [
        {
          "output_type": "stream",
          "name": "stdout",
          "text": [
            "[{'name': 'Alice', 'salary': 55000.0}, {'name': 'Charlie', 'salary': 77000.0}]\n"
          ]
        },
        {
          "output_type": "execute_result",
          "data": {
            "text/plain": [
              "[{'name': 'Alice', 'salary': 55000.0}, {'name': 'Charlie', 'salary': 77000.0}]"
            ]
          },
          "metadata": {},
          "execution_count": 26
        }
      ]
    },
    {
      "cell_type": "markdown",
      "source": [
        "\n",
        "\n",
        "---\n",
        "\n"
      ],
      "metadata": {
        "id": "WPu_r9E09vTC"
      }
    },
    {
      "cell_type": "markdown",
      "source": [
        "## **문제7 : 이메일 주소 검증기**\n",
        "**문제** : 정규표현식을 사용하여 이메일 주소의 유효성을 검사하는 함수를 작성하세요. (단, 필요하면 함수 추가 가능합니다.)\n",
        "- 이메일 주소 유효성 검사 : batch_email_validation\n",
        "    - 영문자, 숫자, 특수문자(., _, -, +) 허용\n",
        "    - @ 기호 필수\n",
        "    - 도메인 부분에 최소 한 개의 점(.) 필요"
      ],
      "metadata": {
        "id": "eqouCu9U9vvC"
      }
    },
    {
      "cell_type": "markdown",
      "source": [
        "- **해답 코드**"
      ],
      "metadata": {
        "id": "BGPzxkXl9vvD"
      }
    },
    {
      "cell_type": "code",
      "source": [
        "import re\n",
        "\n",
        "def batch_email_validation(emails):\n",
        "    \"\"\"여러 이메일 일괄 검증\"\"\"\n",
        "    results = {}\n",
        "\n",
        "    # 이메일 정규식 패턴\n",
        "    pattern = re.compile(\n",
        "        r'^[a-zA-Z0-9._+-]+@([a-zA-Z0-9-]+\\.[a-zA-Z0-9-.]+)$'\n",
        "    )\n",
        "\n",
        "    for email in emails:\n",
        "        match = pattern.match(email)\n",
        "        if match:\n",
        "            domain = match.group(1)\n",
        "            # 도메인에 최소 한 개의 점(.) 있는지 확인\n",
        "            if '.' in domain:\n",
        "                results[email] = {\n",
        "                    'valid': True,\n",
        "                    'message': '유효한 이메일 주소',\n",
        "                    'domain': domain\n",
        "                }\n",
        "            else:\n",
        "                results[email] = {\n",
        "                    'valid': False,\n",
        "                    'message': '도메인에 점(.)이 없습니다',\n",
        "                    'domain': domain\n",
        "                }\n",
        "        else:\n",
        "            results[email] = {\n",
        "                'valid': False,\n",
        "                'message': '유효하지 않은 이메일 주소',\n",
        "                'domain': None\n",
        "            }\n",
        "\n",
        "    return results\n",
        "\n",
        "# 테스트\n",
        "test_emails = [\n",
        "    \"user@example.com\",\n",
        "    \"test.email+tag@domain.co.kr\",\n",
        "    \"invalid.email\",\n",
        "    \"user@domain\",\n",
        "    \"special_chars@test-domain.org\"\n",
        "]\n",
        "\n",
        "results = batch_email_validation(test_emails)\n",
        "for email, result in results.items():\n",
        "    print(f\"\\n✅ {email}: {result['valid']} - {result['message']}\")\n",
        "    if result['domain']:\n",
        "        print(f\"👉 도메인: {result['domain']}\")\n",
        "\n"
      ],
      "metadata": {
        "colab": {
          "base_uri": "https://localhost:8080/"
        },
        "id": "QuD5c6S-9vvD",
        "outputId": "c71bfb22-5cdb-4281-c80e-d917795b1539"
      },
      "execution_count": 27,
      "outputs": [
        {
          "output_type": "stream",
          "name": "stdout",
          "text": [
            "\n",
            "✅ user@example.com: True - 유효한 이메일 주소\n",
            "👉 도메인: example.com\n",
            "\n",
            "✅ test.email+tag@domain.co.kr: True - 유효한 이메일 주소\n",
            "👉 도메인: domain.co.kr\n",
            "\n",
            "✅ invalid.email: False - 유효하지 않은 이메일 주소\n",
            "\n",
            "✅ user@domain: False - 유효하지 않은 이메일 주소\n",
            "\n",
            "✅ special_chars@test-domain.org: True - 유효한 이메일 주소\n",
            "👉 도메인: test-domain.org\n"
          ]
        }
      ]
    },
    {
      "cell_type": "markdown",
      "source": [
        "\n",
        "\n",
        "---\n",
        "\n"
      ],
      "metadata": {
        "id": "JQq33m4g9vvD"
      }
    },
    {
      "cell_type": "markdown",
      "source": [
        "## **문제8 : 다중상속을 활용한 AI 모델 클래스**\n",
        "**문제** : 다중상속과 super()를 활용하여 AI 모델의 기본 기능들을 조합하는 클래스를 작성하세요."
      ],
      "metadata": {
        "id": "EjuxKrJp9v2s"
      }
    },
    {
      "cell_type": "markdown",
      "source": [
        "- **해답 코드**"
      ],
      "metadata": {
        "id": "gtoz37d99v2t"
      }
    },
    {
      "cell_type": "code",
      "source": [
        "class ModelBase:\n",
        "    \"\"\"AI 모델 기본 클래스\"\"\"\n",
        "    def __init__(self, name, version, **kwargs):  # **kwargs 추가\n",
        "        self.name = name\n",
        "        self.version = version\n",
        "        self.is_trained = False\n",
        "        print(f\"ModelBase 초기화: {name} v{version}\")\n",
        "        super().__init__(**kwargs)  # 다음 클래스로 전달\n",
        "\n",
        "    def load_data(self, data):\n",
        "        print(f\"[{self.name}] 데이터 로딩 중...\")\n",
        "        return data\n",
        "\n",
        "class TrainableMixin:\n",
        "    \"\"\"훈련 가능한 모델을 위한 믹스인\"\"\"\n",
        "    def __init__(self, **kwargs):  # **kwargs로 변경\n",
        "        super().__init__(**kwargs)  # 먼저 super() 호출\n",
        "        self.training_history = []\n",
        "        print(\"TrainableMixin 초기화\")\n",
        "\n",
        "    def train(self, epochs=10):\n",
        "        print(f\"[{self.name}] 훈련 시작 - {epochs} epochs\")\n",
        "        for epoch in range(epochs):\n",
        "            accuracy = 0.5 + (epoch / epochs) * 0.4  # 시뮬레이션\n",
        "            self.training_history.append(accuracy)\n",
        "        self.is_trained = True\n",
        "        print(f\"[{self.name}] 훈련 완료\")\n",
        "\n",
        "class EvaluableMixin:\n",
        "    \"\"\"평가 가능한 모델을 위한 믹스인\"\"\"\n",
        "    def __init__(self, **kwargs):  # **kwargs로 변경\n",
        "        super().__init__(**kwargs)\n",
        "        print(\"EvaluableMixin 초기화\")\n",
        "\n",
        "    def evaluate(self, test_data):\n",
        "        if not self.is_trained:\n",
        "            raise ValueError(\"모델이 훈련되지 않았습니다.\")\n",
        "\n",
        "        print(f\"[{self.name}] 모델 평가 중...\")\n",
        "        # 시뮬레이션된 평가 결과\n",
        "        accuracy = max(self.training_history) if hasattr(self, 'training_history') else 0.8\n",
        "        return {\n",
        "            'accuracy': round(accuracy, 3),\n",
        "            'test_samples': len(test_data) if test_data else 0\n",
        "        }\n",
        "\n",
        "class SaveableMixin:\n",
        "    \"\"\"저장 가능한 모델을 위한 믹스인\"\"\"\n",
        "    def __init__(self, **kwargs):  # **kwargs로 변경\n",
        "        super().__init__(**kwargs)\n",
        "        print(\"SaveableMixin 초기화\")\n",
        "\n",
        "    def save_model(self, filepath):\n",
        "        if not self.is_trained:\n",
        "            print(\"경고: 훈련되지 않은 모델을 저장합니다.\")\n",
        "\n",
        "        print(f\"[{self.name}] 모델 저장: {filepath}\")\n",
        "        # 실제로는 파일 저장 로직이 들어감\n",
        "        return True\n",
        "\n",
        "class AIModel(SaveableMixin, EvaluableMixin, TrainableMixin, ModelBase):\n",
        "    \"\"\"완전한 AI 모델 클래스\"\"\"\n",
        "    def __init__(self, name, version, model_type, **kwargs):\n",
        "        self.model_type = model_type\n",
        "        super().__init__(name=name, version=version, **kwargs)\n",
        "\n",
        "    def get_model_info(self):\n",
        "        return {\n",
        "            'name': self.name,\n",
        "            'version': self.version,\n",
        "            'type': self.model_type,\n",
        "            'is_trained': self.is_trained,\n",
        "            'training_epochs': len(self.training_history) if hasattr(self, 'training_history') else 0\n",
        "        }\n",
        "\n",
        "# MRO 확인\n",
        "print(\"✅ === MRO (Method Resolution Order) ===\")\n",
        "for i, cls in enumerate(AIModel.__mro__):\n",
        "    print(f\"{i+1}. {cls.__name__}\")\n",
        "\n",
        "print(\"\\n✅ === AI 모델 생성 ===\")\n",
        "model = AIModel(\"GPT-Mini\", \"1.0\", \"language_model\")\n",
        "\n",
        "print(\"\\n✅ === 훈련 ===\")\n",
        "model.train(5)\n",
        "\n",
        "print(\"\\n✅ === 평가 ===\")\n",
        "test_data = [\"sample1\", \"sample2\", \"sample3\"]\n",
        "eval_result = model.evaluate(test_data)\n",
        "print(f\"평가 결과: {eval_result}\")\n",
        "\n",
        "print(\"\\n✅ === 저장 ===\")\n",
        "model.save_model(\"./models/gpt_mini_v1.pkl\")\n",
        "\n",
        "print(\"\\n✅ === 모델 정보 ===\")\n",
        "info = model.get_model_info()\n",
        "for key, value in info.items():\n",
        "    print(f\"{key}: {value}\")\n",
        "\n",
        "# ✅ === 모델 정보 ===\n",
        "# name: GPT-Mini\n",
        "# version: 1.0\n",
        "# type: language_model\n",
        "# is_trained: True\n",
        "# training_epochs: 5"
      ],
      "metadata": {
        "colab": {
          "base_uri": "https://localhost:8080/"
        },
        "id": "u9ICAY-P9v2t",
        "outputId": "ed4999cb-ea7e-4211-ef72-0d04e75f421d"
      },
      "execution_count": 28,
      "outputs": [
        {
          "output_type": "stream",
          "name": "stdout",
          "text": [
            "✅ === MRO (Method Resolution Order) ===\n",
            "1. AIModel\n",
            "2. SaveableMixin\n",
            "3. EvaluableMixin\n",
            "4. TrainableMixin\n",
            "5. ModelBase\n",
            "6. object\n",
            "\n",
            "✅ === AI 모델 생성 ===\n",
            "ModelBase 초기화: GPT-Mini v1.0\n",
            "TrainableMixin 초기화\n",
            "EvaluableMixin 초기화\n",
            "SaveableMixin 초기화\n",
            "\n",
            "✅ === 훈련 ===\n",
            "[GPT-Mini] 훈련 시작 - 5 epochs\n",
            "[GPT-Mini] 훈련 완료\n",
            "\n",
            "✅ === 평가 ===\n",
            "[GPT-Mini] 모델 평가 중...\n",
            "평가 결과: {'accuracy': 0.82, 'test_samples': 3}\n",
            "\n",
            "✅ === 저장 ===\n",
            "[GPT-Mini] 모델 저장: ./models/gpt_mini_v1.pkl\n",
            "\n",
            "✅ === 모델 정보 ===\n",
            "name: GPT-Mini\n",
            "version: 1.0\n",
            "type: language_model\n",
            "is_trained: True\n",
            "training_epochs: 5\n"
          ]
        }
      ]
    },
    {
      "cell_type": "markdown",
      "source": [
        "\n",
        "\n",
        "---\n",
        "\n"
      ],
      "metadata": {
        "id": "7Ih0VWiT9v2t"
      }
    },
    {
      "cell_type": "markdown",
      "source": [
        "# 수고하셨습니다!"
      ],
      "metadata": {
        "id": "Dk2UMp3ETSyX"
      }
    }
  ]
}